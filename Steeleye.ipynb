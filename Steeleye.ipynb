{
  "nbformat": 4,
  "nbformat_minor": 0,
  "metadata": {
    "colab": {
      "provenance": []
    },
    "kernelspec": {
      "name": "python3",
      "display_name": "Python 3"
    },
    "language_info": {
      "name": "python"
    }
  },
  "cells": [
    {
      "cell_type": "code",
      "execution_count": null,
      "metadata": {
        "id": "X2Ez7PkkZs3i"
      },
      "outputs": [],
      "source": [
        "import logging\n",
        "import requests\n",
        "import xml.etree.ElementTree as ET\n",
        "\n",
        "class Lambda:\n",
        "    def __init__(self, url=None) ->None:\n",
        "        self.url = url\n",
        "        self.logger = logging.getLogger('Lambda_function')\n",
        "        self.logger.setLevel(logging.INFO)\n",
        "\n",
        "    def download_link(self):\n",
        "        try:\n",
        "            self.resp = requests.get(self.url)\n",
        "            with open('myfile.xml', 'wb') as f:\n",
        "                f.write(self.resp.content)\n",
        "            self.tree = ET.parse('myfile.xml')\n",
        "            self.root = self.tree.getroot()\n",
        "            self.link = ''\n",
        "            for item in self.root[1].iter(\"doc\"):\n",
        "                if item.find(\"str[@name='file_type']\").text == 'DLTINS':\n",
        "                    self.link = item.find(\"str[@name='download_link']\").text\n",
        "                    break\n",
        "            if not self.link:\n",
        "                raise Exception(\"Could not find download link for file_type 'DLTINS'\")\n",
        "            return self.link\n",
        "        except Exception as e:\n",
        "            self.logger.error(f\"Error in download_link: {e}\")\n",
        "            raise e\n",
        "   \n",
        "   \n",
        "    def zip_extraction1(self, link=None):\n",
        "        try:\n",
        "            self.zip_file = requests.get(self.link)\n",
        "            with open('zip_file.zip', 'wb') as f:\n",
        "                f.write(self.zip_file.content)\n",
        "\n",
        "            self.xml_file = \"\"\n",
        "            with zipfile.ZipFile('zip_file.zip', 'r') as f:\n",
        "                self.xml_file = f.namelist()[0]\n",
        "                f.extractall('')\n",
        "\n",
        "            if not self.xml_file:\n",
        "                raise Exception(\"Could not extract xml file from zip\")\n",
        "\n",
        "            return self.xml_file\n",
        "        except Exception as e:\n",
        "            self.logger.error(f\"Error in zip_extraction: {e}\")\n",
        "            raise e\n",
        "\n",
        "    def xml_to_csv(self, xml=None):\n",
        "        self.new = ET.parse(xml)\n",
        "        self.test = self.new.getroot()\n",
        "        self.pattern = 'FinInstrmGnlAttrbts'\n",
        "        self.children = ['Id', 'FullNm', 'ClssfctnTp', 'CmmdtyDerivInd', 'NtnlCcy']\n",
        "        self.tag = 'Issr'\n",
        "        self.rows = []\n",
        "        self.cols = [self.pattern +'.' + k for k in self.children]\n",
        "        self.cols.append(self.tag)\n",
        "        self.parent = 'TermntdRcrd'\n",
        "    \n",
        "        for i in self.test.iter():\n",
        "            if self.parent in i.tag:\n",
        "                self.entry = [None for x in range(len(self.cols))]\n",
        "                for child in i:\n",
        "                    if self.pattern in child.tag:\n",
        "                            for c in child:\n",
        "                                for k in range(len(self.children)):\n",
        "                                    if self.children[k] in c.tag:\n",
        "                                        self.entry[k] = c.text\n",
        "                         \n",
        "                              \n",
        "                    if self.tag in child.tag:\n",
        "                          self.entry[5] = child.text\n",
        "                self.rows.append(self.entry)\n",
        "\n",
        "        self.df = pd.DataFrame(self.rows, columns=self.cols)\n",
        "        return self.df"
      ]
    },
    {
      "cell_type": "code",
      "source": [],
      "metadata": {
        "id": "EljwQAIAlbP0"
      },
      "execution_count": null,
      "outputs": []
    },
    {
      "cell_type": "code",
      "source": [
        "if __name__ == '__main__':\n",
        "    url = \"https://registers.esma.europa.eu/solr/esma_registers_firds_files/select?q=*&fq=publication_date:%5B2023-01-01T00:00:00Z%20TO%202023-01-01T23:59:59Z%5D&wt=xml&indent=true&start=0&rows=100\"\n",
        "    p = Lambda(url)\n",
        "    zip_link = p.download_link()\n",
        "    xml_file = p.zip_extraction1(zip_link)\n",
        "    df = p.xml_to_csv(xml_file)\n",
        "    df.to_csv('output1.csv')\n"
      ],
      "metadata": {
        "id": "Z_BS6LaSl-Vo"
      },
      "execution_count": null,
      "outputs": []
    },
    {
      "cell_type": "code",
      "source": [
        "print(df.iloc[1200:1220])"
      ],
      "metadata": {
        "colab": {
          "base_uri": "https://localhost:8080/"
        },
        "id": "oT_PmAyErT8F",
        "outputId": "a43826af-7102-4cdb-d6ab-12a340356c02"
      },
      "execution_count": 56,
      "outputs": [
        {
          "output_type": "stream",
          "name": "stdout",
          "text": [
            "     FinInstrmGnlAttrbts.Id                       FinInstrmGnlAttrbts.FullNm  \\\n",
            "1200           DE0001142560                                        DBRS 0 23   \n",
            "1201           DE000A0PM5F0  Kreditanst.f.Wiederaufbau     Anl.v.2007 (2023)   \n",
            "1202           DE000A0PM5F0                        KFW 4  5/8  01/04/23 BOND   \n",
            "1203           DE000A0PM5F0                        KFW 4  5/8  01/04/23 BOND   \n",
            "1204           DE000A0PM5F0                                  KFW_4.625_01/23   \n",
            "1205           DE000A0PM5F0                                  KFW_4.625_01/23   \n",
            "1206           DE000A0PM5F0                               KFW 4.625 04/01/23   \n",
            "1207           DE000A0PM5F0                      Kfw (Reg) 4.625% 04/01/2023   \n",
            "1208           DE000A0PM5F0      Kreditanst.f.Wiederaufbau Anl.v.2007 (2023)   \n",
            "1209           DE000A0PM5F0      Kreditanst.f.Wiederaufbau Anl.v.2007 (2023)   \n",
            "1210           DE000A0PM5F0                               KFW 4.625 04/01/23   \n",
            "1211           DE000A0PM5F0                               KFW 4.625 04/01/23   \n",
            "1212           DE000A0PM5F0                         KFW 4.625 2023-01-04 EUR   \n",
            "1213           DE000A0PM5F0                            KFW    4.625 01/04/23   \n",
            "1214           DE000A0PM5F0                                KFW 4.625% 04GE23   \n",
            "1215           DE000A0PM5F0      Kreditanst.f.Wiederaufbau Anl.v.2007 (2023)   \n",
            "1216           DE000A0PM5F0                          KFW 4 5/8 01/04/23 BOND   \n",
            "1217           DE000A0PM5F0                        KFW 4  5/8  01/04/23 BOND   \n",
            "1218           DE000A0PM5F0      Kreditanst.f.Wiederaufbau Anl.v.2007 (2023)   \n",
            "1219           DE000A0PM5F0      Kreditanst.f.Wiederaufbau Anl.v.2007 (2023)   \n",
            "\n",
            "     FinInstrmGnlAttrbts.ClssfctnTp FinInstrmGnlAttrbts.CmmdtyDerivInd  \\\n",
            "1200                         DBZTFB                              false   \n",
            "1201                         DBFTFB                              false   \n",
            "1202                         DBFTFB                              false   \n",
            "1203                         DBFTFB                              false   \n",
            "1204                         DBFTFB                              false   \n",
            "1205                         DBFTFB                              false   \n",
            "1206                         DBFTFB                              false   \n",
            "1207                         DBFTFB                              false   \n",
            "1208                         DBFTFB                              false   \n",
            "1209                         DBFTFB                              false   \n",
            "1210                         DBFTFB                              false   \n",
            "1211                         DBFTFB                              false   \n",
            "1212                         DBFTFB                              false   \n",
            "1213                         DBFTFB                              false   \n",
            "1214                         DBFTFB                              false   \n",
            "1215                         DBFTFB                              false   \n",
            "1216                         DBFTFB                              false   \n",
            "1217                         DBFTFB                              false   \n",
            "1218                         DBFTFB                              false   \n",
            "1219                         DBFTFB                              false   \n",
            "\n",
            "     FinInstrmGnlAttrbts.NtnlCcy                  Issr  \n",
            "1200                         EUR  529900AQBND3S6YJLY83  \n",
            "1201                         EUR  549300GDPG70E3MBBU98  \n",
            "1202                         EUR  549300GDPG70E3MBBU98  \n",
            "1203                         EUR  549300GDPG70E3MBBU98  \n",
            "1204                         EUR  549300GDPG70E3MBBU98  \n",
            "1205                         EUR  549300GDPG70E3MBBU98  \n",
            "1206                         EUR  549300GDPG70E3MBBU98  \n",
            "1207                         EUR  549300GDPG70E3MBBU98  \n",
            "1208                         EUR  549300GDPG70E3MBBU98  \n",
            "1209                         EUR  549300GDPG70E3MBBU98  \n",
            "1210                         EUR  549300GDPG70E3MBBU98  \n",
            "1211                         EUR  549300GDPG70E3MBBU98  \n",
            "1212                         EUR  549300GDPG70E3MBBU98  \n",
            "1213                         EUR  549300GDPG70E3MBBU98  \n",
            "1214                         EUR  549300GDPG70E3MBBU98  \n",
            "1215                         EUR  549300GDPG70E3MBBU98  \n",
            "1216                         EUR  549300GDPG70E3MBBU98  \n",
            "1217                         EUR  549300GDPG70E3MBBU98  \n",
            "1218                         EUR  549300GDPG70E3MBBU98  \n",
            "1219                         EUR  549300GDPG70E3MBBU98  \n"
          ]
        }
      ]
    },
    {
      "cell_type": "code",
      "source": [],
      "metadata": {
        "id": "kpicKhpS2NrM"
      },
      "execution_count": null,
      "outputs": []
    }
  ]
}